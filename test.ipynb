{
 "cells": [
  {
   "cell_type": "code",
   "execution_count": 31,
   "outputs": [],
   "source": [
    "import pandas as pd\n",
    "from datetime import datetime"
   ],
   "metadata": {
    "collapsed": false
   }
  },
  {
   "cell_type": "code",
   "execution_count": 39,
   "metadata": {
    "collapsed": true
   },
   "outputs": [],
   "source": [
    "df_train = pd.read_csv('train__dataset.csv')\n",
    "df_test = pd.read_csv('test___dataset.csv')"
   ]
  },
  {
   "cell_type": "code",
   "execution_count": 40,
   "outputs": [],
   "source": [
    "df_train.index.name = 'id'\n",
    "df_test.index.name = 'id'"
   ],
   "metadata": {
    "collapsed": false
   }
  },
  {
   "cell_type": "code",
   "execution_count": 41,
   "outputs": [
    {
     "data": {
      "text/plain": "       no_of_adults  no_of_children  no_of_weekend_nights  no_of_week_nights  \\\nid                                                                             \n0                 2               0                     1                  4   \n1                 2               1                     0                  2   \n2                 1               0                     1                  5   \n3                 1               0                     2                  4   \n4                 2               0                     0                  4   \n...             ...             ...                   ...                ...   \n18132             1               0                     0                  2   \n18133             2               0                     0                  3   \n18134             2               0                     0                  1   \n18135             2               0                     0                  3   \n18136             1               0                     1                  1   \n\n       type_of_meal_plan  required_car_parking_space  room_type_reserved  \\\nid                                                                         \n0                      0                           0                   0   \n1                      0                           0                   0   \n2                      0                           0                   0   \n3                      0                           0                   0   \n4                      1                           0                   0   \n...                  ...                         ...                 ...   \n18132                  0                           0                   0   \n18133                  0                           0                   0   \n18134                  0                           0                   0   \n18135                  0                           0                   0   \n18136                  0                           0                   0   \n\n       lead_time  arrival_year  arrival_month  arrival_date  \\\nid                                                            \n0            118          2017             12            28   \n1             17          2018              4            14   \n2            349          2018             10             4   \n3             69          2018              6            12   \n4             11          2018              1            20   \n...          ...           ...            ...           ...   \n18132        103          2018              4            19   \n18133        129          2018              8            10   \n18134         90          2018              7            13   \n18135         18          2018             11            10   \n18136        159          2018              4             9   \n\n       market_segment_type  repeated_guest  no_of_previous_cancellations  \\\nid                                                                         \n0                        1               0                             0   \n1                        1               0                             0   \n2                        0               0                             0   \n3                        0               0                             0   \n4                        1               0                             0   \n...                    ...             ...                           ...   \n18132                    0               0                             0   \n18133                    1               0                             0   \n18134                    1               0                             0   \n18135                    1               1                             0   \n18136                    0               0                             0   \n\n       no_of_previous_bookings_not_canceled  avg_price_per_room  \\\nid                                                                \n0                                         0              110.80   \n1                                         0              145.00   \n2                                         0               96.67   \n3                                         0              120.00   \n4                                         0               69.50   \n...                                     ...                 ...   \n18132                                     0              115.00   \n18133                                     0               88.01   \n18134                                     0              105.30   \n18135                                     1              123.33   \n18136                                     0               65.00   \n\n       no_of_special_requests  booking_status  \nid                                             \n0                           2               0  \n1                           0               1  \n2                           0               1  \n3                           0               1  \n4                           1               0  \n...                       ...             ...  \n18132                       0               1  \n18133                       1               0  \n18134                       0               1  \n18135                       1               0  \n18136                       0               0  \n\n[18137 rows x 18 columns]",
      "text/html": "<div>\n<style scoped>\n    .dataframe tbody tr th:only-of-type {\n        vertical-align: middle;\n    }\n\n    .dataframe tbody tr th {\n        vertical-align: top;\n    }\n\n    .dataframe thead th {\n        text-align: right;\n    }\n</style>\n<table border=\"1\" class=\"dataframe\">\n  <thead>\n    <tr style=\"text-align: right;\">\n      <th></th>\n      <th>no_of_adults</th>\n      <th>no_of_children</th>\n      <th>no_of_weekend_nights</th>\n      <th>no_of_week_nights</th>\n      <th>type_of_meal_plan</th>\n      <th>required_car_parking_space</th>\n      <th>room_type_reserved</th>\n      <th>lead_time</th>\n      <th>arrival_year</th>\n      <th>arrival_month</th>\n      <th>arrival_date</th>\n      <th>market_segment_type</th>\n      <th>repeated_guest</th>\n      <th>no_of_previous_cancellations</th>\n      <th>no_of_previous_bookings_not_canceled</th>\n      <th>avg_price_per_room</th>\n      <th>no_of_special_requests</th>\n      <th>booking_status</th>\n    </tr>\n    <tr>\n      <th>id</th>\n      <th></th>\n      <th></th>\n      <th></th>\n      <th></th>\n      <th></th>\n      <th></th>\n      <th></th>\n      <th></th>\n      <th></th>\n      <th></th>\n      <th></th>\n      <th></th>\n      <th></th>\n      <th></th>\n      <th></th>\n      <th></th>\n      <th></th>\n      <th></th>\n    </tr>\n  </thead>\n  <tbody>\n    <tr>\n      <th>0</th>\n      <td>2</td>\n      <td>0</td>\n      <td>1</td>\n      <td>4</td>\n      <td>0</td>\n      <td>0</td>\n      <td>0</td>\n      <td>118</td>\n      <td>2017</td>\n      <td>12</td>\n      <td>28</td>\n      <td>1</td>\n      <td>0</td>\n      <td>0</td>\n      <td>0</td>\n      <td>110.80</td>\n      <td>2</td>\n      <td>0</td>\n    </tr>\n    <tr>\n      <th>1</th>\n      <td>2</td>\n      <td>1</td>\n      <td>0</td>\n      <td>2</td>\n      <td>0</td>\n      <td>0</td>\n      <td>0</td>\n      <td>17</td>\n      <td>2018</td>\n      <td>4</td>\n      <td>14</td>\n      <td>1</td>\n      <td>0</td>\n      <td>0</td>\n      <td>0</td>\n      <td>145.00</td>\n      <td>0</td>\n      <td>1</td>\n    </tr>\n    <tr>\n      <th>2</th>\n      <td>1</td>\n      <td>0</td>\n      <td>1</td>\n      <td>5</td>\n      <td>0</td>\n      <td>0</td>\n      <td>0</td>\n      <td>349</td>\n      <td>2018</td>\n      <td>10</td>\n      <td>4</td>\n      <td>0</td>\n      <td>0</td>\n      <td>0</td>\n      <td>0</td>\n      <td>96.67</td>\n      <td>0</td>\n      <td>1</td>\n    </tr>\n    <tr>\n      <th>3</th>\n      <td>1</td>\n      <td>0</td>\n      <td>2</td>\n      <td>4</td>\n      <td>0</td>\n      <td>0</td>\n      <td>0</td>\n      <td>69</td>\n      <td>2018</td>\n      <td>6</td>\n      <td>12</td>\n      <td>0</td>\n      <td>0</td>\n      <td>0</td>\n      <td>0</td>\n      <td>120.00</td>\n      <td>0</td>\n      <td>1</td>\n    </tr>\n    <tr>\n      <th>4</th>\n      <td>2</td>\n      <td>0</td>\n      <td>0</td>\n      <td>4</td>\n      <td>1</td>\n      <td>0</td>\n      <td>0</td>\n      <td>11</td>\n      <td>2018</td>\n      <td>1</td>\n      <td>20</td>\n      <td>1</td>\n      <td>0</td>\n      <td>0</td>\n      <td>0</td>\n      <td>69.50</td>\n      <td>1</td>\n      <td>0</td>\n    </tr>\n    <tr>\n      <th>...</th>\n      <td>...</td>\n      <td>...</td>\n      <td>...</td>\n      <td>...</td>\n      <td>...</td>\n      <td>...</td>\n      <td>...</td>\n      <td>...</td>\n      <td>...</td>\n      <td>...</td>\n      <td>...</td>\n      <td>...</td>\n      <td>...</td>\n      <td>...</td>\n      <td>...</td>\n      <td>...</td>\n      <td>...</td>\n      <td>...</td>\n    </tr>\n    <tr>\n      <th>18132</th>\n      <td>1</td>\n      <td>0</td>\n      <td>0</td>\n      <td>2</td>\n      <td>0</td>\n      <td>0</td>\n      <td>0</td>\n      <td>103</td>\n      <td>2018</td>\n      <td>4</td>\n      <td>19</td>\n      <td>0</td>\n      <td>0</td>\n      <td>0</td>\n      <td>0</td>\n      <td>115.00</td>\n      <td>0</td>\n      <td>1</td>\n    </tr>\n    <tr>\n      <th>18133</th>\n      <td>2</td>\n      <td>0</td>\n      <td>0</td>\n      <td>3</td>\n      <td>0</td>\n      <td>0</td>\n      <td>0</td>\n      <td>129</td>\n      <td>2018</td>\n      <td>8</td>\n      <td>10</td>\n      <td>1</td>\n      <td>0</td>\n      <td>0</td>\n      <td>0</td>\n      <td>88.01</td>\n      <td>1</td>\n      <td>0</td>\n    </tr>\n    <tr>\n      <th>18134</th>\n      <td>2</td>\n      <td>0</td>\n      <td>0</td>\n      <td>1</td>\n      <td>0</td>\n      <td>0</td>\n      <td>0</td>\n      <td>90</td>\n      <td>2018</td>\n      <td>7</td>\n      <td>13</td>\n      <td>1</td>\n      <td>0</td>\n      <td>0</td>\n      <td>0</td>\n      <td>105.30</td>\n      <td>0</td>\n      <td>1</td>\n    </tr>\n    <tr>\n      <th>18135</th>\n      <td>2</td>\n      <td>0</td>\n      <td>0</td>\n      <td>3</td>\n      <td>0</td>\n      <td>0</td>\n      <td>0</td>\n      <td>18</td>\n      <td>2018</td>\n      <td>11</td>\n      <td>10</td>\n      <td>1</td>\n      <td>1</td>\n      <td>0</td>\n      <td>1</td>\n      <td>123.33</td>\n      <td>1</td>\n      <td>0</td>\n    </tr>\n    <tr>\n      <th>18136</th>\n      <td>1</td>\n      <td>0</td>\n      <td>1</td>\n      <td>1</td>\n      <td>0</td>\n      <td>0</td>\n      <td>0</td>\n      <td>159</td>\n      <td>2018</td>\n      <td>4</td>\n      <td>9</td>\n      <td>0</td>\n      <td>0</td>\n      <td>0</td>\n      <td>0</td>\n      <td>65.00</td>\n      <td>0</td>\n      <td>0</td>\n    </tr>\n  </tbody>\n</table>\n<p>18137 rows × 18 columns</p>\n</div>"
     },
     "execution_count": 41,
     "metadata": {},
     "output_type": "execute_result"
    }
   ],
   "source": [
    "df_train"
   ],
   "metadata": {
    "collapsed": false
   }
  },
  {
   "cell_type": "code",
   "execution_count": 46,
   "outputs": [],
   "source": [
    "df_train.rename(columns={\n",
    "        'arrival_year': 'year',\n",
    "        'arrival_month': 'month',\n",
    "        'arrival_date': 'day'\n",
    "    }, inplace=True)"
   ],
   "metadata": {
    "collapsed": false
   }
  },
  {
   "cell_type": "code",
   "execution_count": 48,
   "outputs": [],
   "source": [
    "df_train['date'] = pd.to_datetime(df_train[['year', 'month', 'day']], errors='coerce')"
   ],
   "metadata": {
    "collapsed": false
   }
  },
  {
   "cell_type": "code",
   "execution_count": 54,
   "outputs": [],
   "source": [
    "df_train['weekday'] = df_train['date'].apply(lambda x: x.weekday())"
   ],
   "metadata": {
    "collapsed": false
   }
  },
  {
   "cell_type": "code",
   "execution_count": 56,
   "outputs": [
    {
     "name": "stdout",
     "output_type": "stream",
     "text": [
      "(18137, 20)\n",
      "(18138, 17)\n"
     ]
    }
   ],
   "source": [
    "print(df_train.shape)\n",
    "print(df_test.shape)"
   ],
   "metadata": {
    "collapsed": false
   }
  },
  {
   "cell_type": "code",
   "execution_count": 57,
   "outputs": [
    {
     "name": "stdout",
     "output_type": "stream",
     "text": [
      "<class 'pandas.core.frame.DataFrame'>\n",
      "RangeIndex: 18137 entries, 0 to 18136\n",
      "Data columns (total 20 columns):\n",
      " #   Column                                Non-Null Count  Dtype         \n",
      "---  ------                                --------------  -----         \n",
      " 0   no_of_adults                          18137 non-null  int64         \n",
      " 1   no_of_children                        18137 non-null  int64         \n",
      " 2   no_of_weekend_nights                  18137 non-null  int64         \n",
      " 3   no_of_week_nights                     18137 non-null  int64         \n",
      " 4   type_of_meal_plan                     18137 non-null  int64         \n",
      " 5   required_car_parking_space            18137 non-null  int64         \n",
      " 6   room_type_reserved                    18137 non-null  int64         \n",
      " 7   lead_time                             18137 non-null  int64         \n",
      " 8   year                                  18137 non-null  int64         \n",
      " 9   month                                 18137 non-null  int64         \n",
      " 10  day                                   18137 non-null  int64         \n",
      " 11  market_segment_type                   18137 non-null  int64         \n",
      " 12  repeated_guest                        18137 non-null  int64         \n",
      " 13  no_of_previous_cancellations          18137 non-null  int64         \n",
      " 14  no_of_previous_bookings_not_canceled  18137 non-null  int64         \n",
      " 15  avg_price_per_room                    18137 non-null  float64       \n",
      " 16  no_of_special_requests                18137 non-null  int64         \n",
      " 17  booking_status                        18137 non-null  int64         \n",
      " 18  date                                  18116 non-null  datetime64[ns]\n",
      " 19  weekday                               18116 non-null  float64       \n",
      "dtypes: datetime64[ns](1), float64(2), int64(17)\n",
      "memory usage: 2.8 MB\n"
     ]
    }
   ],
   "source": [
    "df_train.info()"
   ],
   "metadata": {
    "collapsed": false
   }
  },
  {
   "cell_type": "code",
   "execution_count": 60,
   "outputs": [
    {
     "name": "stdout",
     "output_type": "stream",
     "text": [
      "True\n",
      "True\n"
     ]
    }
   ],
   "source": [
    "print(df_train.isnull().values.any())\n",
    "print(df_train.isna().values.any())"
   ],
   "metadata": {
    "collapsed": false
   }
  },
  {
   "cell_type": "code",
   "execution_count": 63,
   "outputs": [
    {
     "name": "stdout",
     "output_type": "stream",
     "text": [
      "no_of_adults                             0\n",
      "no_of_children                           0\n",
      "no_of_weekend_nights                     0\n",
      "no_of_week_nights                        0\n",
      "type_of_meal_plan                        0\n",
      "required_car_parking_space               0\n",
      "room_type_reserved                       0\n",
      "lead_time                                0\n",
      "year                                     0\n",
      "month                                    0\n",
      "day                                      0\n",
      "market_segment_type                      0\n",
      "repeated_guest                           0\n",
      "no_of_previous_cancellations             0\n",
      "no_of_previous_bookings_not_canceled     0\n",
      "avg_price_per_room                       0\n",
      "no_of_special_requests                   0\n",
      "booking_status                           0\n",
      "date                                    21\n",
      "weekday                                 21\n",
      "dtype: int64\n",
      "no_of_adults                             0\n",
      "no_of_children                           0\n",
      "no_of_weekend_nights                     0\n",
      "no_of_week_nights                        0\n",
      "type_of_meal_plan                        0\n",
      "required_car_parking_space               0\n",
      "room_type_reserved                       0\n",
      "lead_time                                0\n",
      "year                                     0\n",
      "month                                    0\n",
      "day                                      0\n",
      "market_segment_type                      0\n",
      "repeated_guest                           0\n",
      "no_of_previous_cancellations             0\n",
      "no_of_previous_bookings_not_canceled     0\n",
      "avg_price_per_room                       0\n",
      "no_of_special_requests                   0\n",
      "booking_status                           0\n",
      "date                                    21\n",
      "weekday                                 21\n",
      "dtype: int64\n"
     ]
    }
   ],
   "source": [
    "print(df_train.isnull().sum())\n",
    "print(df_train.isna().sum())"
   ],
   "metadata": {
    "collapsed": false
   }
  },
  {
   "cell_type": "code",
   "execution_count": 64,
   "outputs": [
    {
     "data": {
      "text/plain": "no_of_adults                            False\nno_of_children                          False\nno_of_weekend_nights                    False\nno_of_week_nights                       False\ntype_of_meal_plan                       False\nrequired_car_parking_space              False\nroom_type_reserved                      False\nlead_time                               False\nyear                                    False\nmonth                                   False\nday                                     False\nmarket_segment_type                     False\nrepeated_guest                          False\nno_of_previous_cancellations            False\nno_of_previous_bookings_not_canceled    False\navg_price_per_room                      False\nno_of_special_requests                  False\nbooking_status                          False\ndate                                     True\nweekday                                  True\ndtype: bool"
     },
     "execution_count": 64,
     "metadata": {},
     "output_type": "execute_result"
    }
   ],
   "source": [
    "df_train.isna().any()"
   ],
   "metadata": {
    "collapsed": false
   }
  },
  {
   "cell_type": "code",
   "execution_count": 62,
   "outputs": [
    {
     "data": {
      "text/plain": "no_of_adults                            False\nno_of_children                          False\nno_of_weekend_nights                    False\nno_of_week_nights                       False\ntype_of_meal_plan                       False\nrequired_car_parking_space              False\nroom_type_reserved                      False\nlead_time                               False\nyear                                    False\nmonth                                   False\nday                                     False\nmarket_segment_type                     False\nrepeated_guest                          False\nno_of_previous_cancellations            False\nno_of_previous_bookings_not_canceled    False\navg_price_per_room                      False\nno_of_special_requests                  False\nbooking_status                          False\ndate                                     True\nweekday                                  True\ndtype: bool"
     },
     "execution_count": 62,
     "metadata": {},
     "output_type": "execute_result"
    }
   ],
   "source": [
    "df_train.isnull().any()"
   ],
   "metadata": {
    "collapsed": false
   }
  },
  {
   "cell_type": "code",
   "execution_count": 29,
   "outputs": [
    {
     "data": {
      "text/plain": "   booking_status  counts\n0               0   12195\n1               1    5942",
      "text/html": "<div>\n<style scoped>\n    .dataframe tbody tr th:only-of-type {\n        vertical-align: middle;\n    }\n\n    .dataframe tbody tr th {\n        vertical-align: top;\n    }\n\n    .dataframe thead th {\n        text-align: right;\n    }\n</style>\n<table border=\"1\" class=\"dataframe\">\n  <thead>\n    <tr style=\"text-align: right;\">\n      <th></th>\n      <th>booking_status</th>\n      <th>counts</th>\n    </tr>\n  </thead>\n  <tbody>\n    <tr>\n      <th>0</th>\n      <td>0</td>\n      <td>12195</td>\n    </tr>\n    <tr>\n      <th>1</th>\n      <td>1</td>\n      <td>5942</td>\n    </tr>\n  </tbody>\n</table>\n</div>"
     },
     "execution_count": 29,
     "metadata": {},
     "output_type": "execute_result"
    }
   ],
   "source": [
    "df_train.groupby(by= ['booking_status']).size().reset_index(name='counts')"
   ],
   "metadata": {
    "collapsed": false
   }
  },
  {
   "cell_type": "code",
   "execution_count": 33,
   "outputs": [
    {
     "data": {
      "text/plain": "6"
     },
     "execution_count": 33,
     "metadata": {},
     "output_type": "execute_result"
    }
   ],
   "source": [
    "datetime.now()\n"
   ],
   "metadata": {
    "collapsed": false
   }
  },
  {
   "cell_type": "code",
   "execution_count": null,
   "outputs": [],
   "source": [],
   "metadata": {
    "collapsed": false
   }
  }
 ],
 "metadata": {
  "kernelspec": {
   "display_name": "Python 3",
   "language": "python",
   "name": "python3"
  },
  "language_info": {
   "codemirror_mode": {
    "name": "ipython",
    "version": 2
   },
   "file_extension": ".py",
   "mimetype": "text/x-python",
   "name": "python",
   "nbconvert_exporter": "python",
   "pygments_lexer": "ipython2",
   "version": "2.7.6"
  }
 },
 "nbformat": 4,
 "nbformat_minor": 0
}
